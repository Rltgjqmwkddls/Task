{
 "cells": [
  {
   "cell_type": "code",
   "execution_count": 2,
   "metadata": {},
   "outputs": [],
   "source": [
    "import os\n",
    "from urllib import parse\n",
    "from  urllib.request import Request, urlopen\n",
    "from selenium.webdriver.common.by import By\n",
    "import time\n",
    "from selenium import webdriver"
   ]
  },
  {
   "cell_type": "code",
   "execution_count": 12,
   "metadata": {},
   "outputs": [],
   "source": [
    "def crawl_and_save_image(keyword, pages):\n",
    "    image_urls = []\n",
    "    driver = webdriver.Chrome()\n",
    "\n",
    "    for i in range(1, pages + 1):\n",
    "        url = f'https://pixabay.com/ko/images/search/{keyword}/?pagi={i}'\n",
    "        driver.get(url)\n",
    "        time.sleep(2)\n",
    "\n",
    "        # 더 많은 스크롤을 실행하여 이미지를 모두 로드\n",
    "        for _ in range(30):\n",
    "            driver.execute_script('window.scrollTo(0, document.body.scrollHeight)')\n",
    "            time.sleep(1)  # 스크롤 후 이미지 로드를 기다림\n",
    "\n",
    "        # 이미지 영역 탐색\n",
    "        image_area_xpath = '/html/body/div[1]/div[1]/div/div[2]/div[3]'\n",
    "        image_area = driver.find_element(By.XPATH, image_area_xpath)\n",
    "        image_elements = image_area.find_elements(By.TAG_NAME, 'img')\n",
    "\n",
    "        for image_element in image_elements:\n",
    "            image_url = (image_element.get_attribute('src') or\n",
    "                         image_element.get_attribute('data-src') or\n",
    "                         image_element.get_attribute('data-lazy') or\n",
    "                         image_element.get_attribute('srcset'))  # 다른 속성도 확인\n",
    "            if image_url and 'blank.gif' not in image_url:  # 'blank.gif' 필터링\n",
    "                print(image_url)\n",
    "                image_urls.append(image_url)\n",
    "\n",
    "    if not os.path.exists(keyword):\n",
    "        os.mkdir(keyword)\n",
    "\n",
    "    for i in range(len(image_urls)):\n",
    "        image_url = image_urls[i]\n",
    "        filename = image_url.split('/')[-1]\n",
    "        try:\n",
    "            image_byte = Request(image_url, headers={'User-Agent': 'Mozilla/5.0 (Windows NT 10.0; Win64; x64) AppleWebKit/537.36 (KHTML, like Gecko) Chrome/124.0.0.0 Safari/537.36'})\n",
    "            with open(f'{keyword}/{filename}', 'wb') as f:\n",
    "                f.write(urlopen(image_byte).read())\n",
    "        except HTTPError as e:\n",
    "            print(f'HTTP Error: {e.code} - {e.reason}')\n",
    "        except URLError as e:\n",
    "            print(f'URL Error: {e.reason}')\n",
    "        except Exception as e:\n",
    "            print(f'Unexpected error: {e}')\n",
    "    \n",
    "    driver.quit()"
   ]
  },
  {
   "cell_type": "code",
   "execution_count": 13,
   "metadata": {},
   "outputs": [
    {
     "name": "stdout",
     "output_type": "stream",
     "text": [
      "https://cdn.pixabay.com/photo/2017/01/12/21/42/tiger-1975790_1280.jpg\n",
      "https://cdn.pixabay.com/photo/2017/11/06/09/53/tiger-2923186_640.jpg\n",
      "https://cdn.pixabay.com/photo/2017/07/22/22/56/tiger-2530158_640.jpg\n",
      "https://cdn.pixabay.com/photo/2023/07/19/22/28/amur-tiger-8138017_640.jpg\n",
      "https://cdn.pixabay.com/photo/2018/03/26/20/49/tiger-3264048_640.jpg\n",
      "https://cdn.pixabay.com/photo/2016/07/18/20/30/tiger-1526704_640.png\n",
      "https://cdn.pixabay.com/photo/2023/08/26/12/28/tiger-8214815_640.png\n",
      "https://cdn.pixabay.com/photo/2013/07/19/00/18/tiger-165189_640.jpg\n",
      "https://cdn.pixabay.com/photo/2020/03/12/17/29/tiger-4925778_640.jpg\n",
      "https://cdn.pixabay.com/photo/2017/07/24/19/57/tiger-2535888_640.jpg\n",
      "https://cdn.pixabay.com/photo/2017/03/17/21/35/tiger-2152747_640.jpg\n",
      "https://cdn.pixabay.com/photo/2015/01/07/11/31/tigers-591359_640.jpg\n",
      "https://cdn.pixabay.com/photo/2020/02/06/15/31/tiger-4824663_640.png\n",
      "https://cdn.pixabay.com/photo/2018/01/21/09/56/tiger-3096211_640.jpg\n",
      "https://cdn.pixabay.com/photo/2023/12/07/19/45/tiger-8436227_640.jpg\n",
      "https://cdn.pixabay.com/photo/2018/01/25/14/12/nature-3106213_640.jpg\n",
      "https://cdn.pixabay.com/photo/2018/05/23/18/54/tiger-3424791_640.jpg\n",
      "https://cdn.pixabay.com/photo/2016/11/29/10/07/tiger-1868911_640.jpg\n",
      "https://cdn.pixabay.com/photo/2017/05/17/12/42/tiger-2320819_640.jpg\n",
      "https://cdn.pixabay.com/photo/2023/03/30/18/27/animal-7888465_640.jpg\n",
      "https://cdn.pixabay.com/photo/2024/07/26/23/08/tiger-8924434_1280.jpg\n",
      "https://cdn.pixabay.com/photo/2016/04/01/09/16/abstract-1299246_640.png\n",
      "https://cdn.pixabay.com/photo/2022/07/19/16/42/tiger-7332512_640.jpg\n",
      "https://cdn.pixabay.com/photo/2022/01/16/11/36/tigers-6941805_640.png\n",
      "https://cdn.pixabay.com/photo/2013/07/12/18/44/tiger-153801_640.png\n",
      "https://cdn.pixabay.com/photo/2016/03/31/17/43/animal-1293862_640.png\n",
      "https://cdn.pixabay.com/photo/2017/01/31/19/03/animal-2026470_640.png\n",
      "https://cdn.pixabay.com/photo/2016/05/06/15/51/tiger-1376065_640.jpg\n",
      "https://cdn.pixabay.com/photo/2017/07/17/23/12/tiger-2514212_640.jpg\n",
      "https://cdn.pixabay.com/photo/2019/08/25/05/54/tiger-4428788_640.jpg\n",
      "https://cdn.pixabay.com/photo/2017/01/31/17/48/animal-2025913_640.png\n",
      "https://cdn.pixabay.com/photo/2022/01/23/07/50/wildlife-6959995_640.jpg\n",
      "https://cdn.pixabay.com/photo/2022/12/17/03/30/tiger-7660863_640.jpg\n",
      "https://cdn.pixabay.com/photo/2017/08/21/17/13/tiger-2666068_640.jpg\n",
      "https://cdn.pixabay.com/photo/2017/12/26/00/53/tiger-3039433_640.jpg\n",
      "https://cdn.pixabay.com/photo/2017/04/02/15/12/tiger-2196128_640.jpg\n",
      "https://cdn.pixabay.com/photo/2018/02/17/20/58/tiger-3160887_640.jpg\n",
      "https://cdn.pixabay.com/photo/2024/05/10/16/05/ai-generated-8753312_640.png\n",
      "https://cdn.pixabay.com/photo/2022/01/17/13/57/tiger-6944778_640.jpg\n",
      "https://cdn.pixabay.com/photo/2018/02/17/23/09/tiger-3161160_640.jpg\n"
     ]
    }
   ],
   "source": [
    "crawl_and_save_image('호랑이', 2)"
   ]
  },
  {
   "cell_type": "code",
   "execution_count": null,
   "metadata": {},
   "outputs": [],
   "source": []
  }
 ],
 "metadata": {
  "kernelspec": {
   "display_name": "Python 3",
   "language": "python",
   "name": "python3"
  },
  "language_info": {
   "codemirror_mode": {
    "name": "ipython",
    "version": 3
   },
   "file_extension": ".py",
   "mimetype": "text/x-python",
   "name": "python",
   "nbconvert_exporter": "python",
   "pygments_lexer": "ipython3",
   "version": "3.10.11"
  }
 },
 "nbformat": 4,
 "nbformat_minor": 2
}
